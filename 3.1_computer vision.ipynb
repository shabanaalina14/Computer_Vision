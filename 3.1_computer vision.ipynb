{
 "cells": [
  {
   "cell_type": "code",
   "execution_count": 1,
   "id": "7bed1822",
   "metadata": {},
   "outputs": [
    {
     "name": "stdout",
     "output_type": "stream",
     "text": [
      "Requirement already satisfied: opencv-python in c:\\users\\shaba\\appdata\\local\\programs\\python\\python312\\lib\\site-packages (4.11.0.86)\n",
      "Requirement already satisfied: numpy>=1.21.2 in c:\\users\\shaba\\appdata\\local\\programs\\python\\python312\\lib\\site-packages (from opencv-python) (2.0.2)\n",
      "Note: you may need to restart the kernel to use updated packages.\n"
     ]
    },
    {
     "name": "stderr",
     "output_type": "stream",
     "text": [
      "\n",
      "[notice] A new release of pip is available: 24.3.1 -> 25.0\n",
      "[notice] To update, run: python.exe -m pip install --upgrade pip\n"
     ]
    }
   ],
   "source": [
    "pip install opencv-python"
   ]
  },
  {
   "cell_type": "code",
   "execution_count": 2,
   "id": "f731117b",
   "metadata": {},
   "outputs": [],
   "source": [
    "import cv2\n",
    "import numpy as np\n",
    "import warnings \n",
    "warnings.simplefilter('ignore')"
   ]
  },
  {
   "cell_type": "markdown",
   "id": "ccd5e14a",
   "metadata": {},
   "source": [
    "# load and read image"
   ]
  },
  {
   "cell_type": "code",
   "execution_count": 3,
   "id": "023fd6f4",
   "metadata": {},
   "outputs": [],
   "source": [
    "# load on the image using 'imread' specifying the path to image\n",
    "\n",
    "img= cv2.imread(r\"C:\\Users\\shaba\\OneDrive\\deep_learning\\cv\\image_examples\\sir apj abdul kalam.jpg\",1)"
   ]
  },
  {
   "cell_type": "markdown",
   "id": "c06cebb8",
   "metadata": {},
   "source": [
    "##  lets take a closer look at how images are stored"
   ]
  },
  {
   "cell_type": "code",
   "execution_count": 4,
   "id": "3ce6a04b",
   "metadata": {
    "scrolled": true
   },
   "outputs": [
    {
     "name": "stdout",
     "output_type": "stream",
     "text": [
      "[[[159 157 156]\n",
      "  [159 157 156]\n",
      "  [159 157 156]\n",
      "  ...\n",
      "  [255 255 255]\n",
      "  [255 255 255]\n",
      "  [255 255 255]]\n",
      "\n",
      " [[159 157 156]\n",
      "  [159 157 156]\n",
      "  [160 158 157]\n",
      "  ...\n",
      "  [255 255 255]\n",
      "  [255 255 255]\n",
      "  [255 255 255]]\n",
      "\n",
      " [[160 158 157]\n",
      "  [160 158 157]\n",
      "  [160 158 157]\n",
      "  ...\n",
      "  [255 255 255]\n",
      "  [255 255 255]\n",
      "  [255 255 255]]\n",
      "\n",
      " ...\n",
      "\n",
      " [[ 59  41  42]\n",
      "  [ 60  42  43]\n",
      "  [ 61  43  44]\n",
      "  ...\n",
      "  [255 255 255]\n",
      "  [255 255 255]\n",
      "  [255 255 255]]\n",
      "\n",
      " [[ 59  41  42]\n",
      "  [ 60  42  43]\n",
      "  [ 61  43  44]\n",
      "  ...\n",
      "  [255 255 255]\n",
      "  [255 255 255]\n",
      "  [255 255 255]]\n",
      "\n",
      " [[ 59  41  42]\n",
      "  [ 60  42  43]\n",
      "  [ 61  43  44]\n",
      "  ...\n",
      "  [255 255 255]\n",
      "  [255 255 255]\n",
      "  [255 255 255]]]\n"
     ]
    }
   ],
   "source": [
    "print(img)"
   ]
  },
  {
   "cell_type": "markdown",
   "id": "12af41b7",
   "metadata": {},
   "source": [
    "# shape give the dimension of the image array"
   ]
  },
  {
   "cell_type": "code",
   "execution_count": 5,
   "id": "69e19071",
   "metadata": {},
   "outputs": [
    {
     "data": {
      "text/plain": [
       "(828, 564, 3)"
      ]
     },
     "execution_count": 5,
     "metadata": {},
     "output_type": "execute_result"
    }
   ],
   "source": [
    "img.shape\n",
    "\n",
    "# the 3d dimensions are 1358 pixel in height * 1500 pixel wide\n",
    "# 3 means that there are 3 RGB that makeup this image"
   ]
  },
  {
   "cell_type": "markdown",
   "id": "d6445145",
   "metadata": {},
   "source": [
    "# display the image"
   ]
  },
  {
   "cell_type": "code",
   "execution_count": 6,
   "id": "34262086",
   "metadata": {},
   "outputs": [],
   "source": [
    "# to display our image variable , we use imshow\n",
    "\n",
    "cv2.imshow('sir APJ Abdul Kalam', img)\n",
    "\n",
    "\n",
    "# waitKey allow us to input information when a image window is open\n",
    "cv2.waitKey()\n",
    "\n",
    "# cv2.waitKey(2000) (time in milisecond)\n",
    "\n",
    "# this close all open window\n",
    "# failure to place this will cause your program to hang\n",
    "cv2.destroyAllWindows()"
   ]
  },
  {
   "cell_type": "code",
   "execution_count": 7,
   "id": "cc914922",
   "metadata": {},
   "outputs": [],
   "source": [
    "img= cv2.imread(r\"C:\\Users\\shaba\\OneDrive\\deep_learning\\cv\\image_examples\\sir apj abdul kalam.jpg\")\n",
    "cv2.imshow('pm', img)\n",
    "cv2.waitKey()\n",
    "cv2.destroyAllWindows()"
   ]
  },
  {
   "cell_type": "markdown",
   "id": "bc49f86f",
   "metadata": {},
   "source": [
    "# save the image"
   ]
  },
  {
   "cell_type": "code",
   "execution_count": 8,
   "id": "932ee1c2",
   "metadata": {},
   "outputs": [
    {
     "data": {
      "text/plain": [
       "True"
      ]
     },
     "execution_count": 8,
     "metadata": {},
     "output_type": "execute_result"
    }
   ],
   "source": [
    "# \n",
    "cv2.imwrite('sir_apj_abdul_kalam.jpg', img)"
   ]
  },
  {
   "cell_type": "markdown",
   "id": "7f9689fa",
   "metadata": {},
   "source": [
    "# resize the image"
   ]
  },
  {
   "cell_type": "code",
   "execution_count": 9,
   "id": "f943e070",
   "metadata": {},
   "outputs": [],
   "source": [
    "img= cv2.imread(r\"C:\\Users\\shaba\\OneDrive\\deep_learning\\cv\\image_examples\\sir apj abdul kalam.jpg\")\n",
    "\n",
    "resize = cv2.resize(img,(500,500))\n",
    "\n",
    "grey = cv2.cvtColor(resize, cv2.COLOR_BGR2GRAY)\n",
    "\n",
    "cv2.imshow('sir_apj_abdul_kalam', grey)\n",
    "\n",
    "cv2.waitKey()\n",
    "\n",
    "cv2.destroyAllWindows()"
   ]
  },
  {
   "cell_type": "code",
   "execution_count": 10,
   "id": "c2a1098c",
   "metadata": {},
   "outputs": [
    {
     "data": {
      "text/plain": [
       "414.0"
      ]
     },
     "execution_count": 10,
     "metadata": {},
     "output_type": "execute_result"
    }
   ],
   "source": [
    "img.shape[0]*0.5"
   ]
  },
  {
   "cell_type": "code",
   "execution_count": 11,
   "id": "b5fac220",
   "metadata": {},
   "outputs": [
    {
     "data": {
      "text/plain": [
       "282.0"
      ]
     },
     "execution_count": 11,
     "metadata": {},
     "output_type": "execute_result"
    }
   ],
   "source": [
    "img.shape[1]*0.5"
   ]
  },
  {
   "cell_type": "markdown",
   "id": "b23694bd",
   "metadata": {},
   "source": [
    "# face Detection Using HAAR Cascade Classifiers"
   ]
  },
  {
   "cell_type": "code",
   "execution_count": 12,
   "id": "19ee30ce",
   "metadata": {},
   "outputs": [],
   "source": [
    " # we point Open cv cascade classifier function to where our classifier \n",
    "face_classifier = cv2.CascadeClassifier(r\"C:\\Users\\shaba\\OneDrive\\deep_learning\\cv\\Haarcascades\\haarcascade_frontalface_default.xml\")\n",
    "\n",
    "# load our image and convert it to grayscale\n",
    "\n",
    "img= cv2.imread(r\"C:\\Users\\shaba\\OneDrive\\deep_learning\\cv\\image_examples\\sir apj abdul kalam.jpg\")\n",
    "img = cv2.resize(img,(500,500))\n",
    "grey = cv2.cvtColor(img, cv2.COLOR_BGR2GRAY)\n",
    "\n",
    "# turning cascade classifier - detectMultiScale ( input image , scaler factor , min neighbors)\n",
    "faces = face_classifier.detectMultiScale(grey, 1.05,5)"
   ]
  },
  {
   "cell_type": "code",
   "execution_count": 13,
   "id": "c65ed751",
   "metadata": {},
   "outputs": [
    {
     "name": "stdout",
     "output_type": "stream",
     "text": [
      "[[202  86 273 273]]\n"
     ]
    }
   ],
   "source": [
    "print(faces)"
   ]
  },
  {
   "cell_type": "code",
   "execution_count": 14,
   "id": "0686c172",
   "metadata": {},
   "outputs": [],
   "source": [
    "cv2.destroyAllWindows()\n"
   ]
  },
  {
   "cell_type": "code",
   "execution_count": 15,
   "id": "1d6f949b",
   "metadata": {},
   "outputs": [],
   "source": [
    "face_classifier = cv2.CascadeClassifier(r\"C:\\Users\\shaba\\OneDrive\\deep_learning\\cv\\Haarcascades\\haarcascade_frontalface_default.xml\")\n",
    "\n",
    "# load our image and convert it to grayscale\n",
    "\n",
    "img= cv2.imread(r\"C:\\Users\\shaba\\OneDrive\\deep_learning\\cv\\image_examples\\sir apj abdul kalam.jpg\")\n",
    "img = cv2.resize(img,(500,500))\n",
    "grey = cv2.cvtColor(img, cv2.COLOR_BGR2GRAY)\n",
    "\n",
    "# turning cascade classifier - detectMultiScale ( input image , scaler factor , min neighbors)\n",
    "faces = face_classifier.detectMultiScale(grey, 1.05,5)\n",
    "\n",
    "# when no faces detected , face classifier returns and empty tuple \n",
    "\n",
    "if faces is ():\n",
    "    print('no face found')\n",
    "# we iterate through our faces array and draw rectangle\n",
    "# over each face in faces\n",
    "\n",
    "for (x,y,w,h) in faces:\n",
    "    cv2.rectangle(img, (x,y), (x+w,y+h), (0,255,100),1)\n",
    "    \n",
    "cv2.imshow('face detection', img)\n",
    "cv2.waitKey()\n",
    "cv2.destroyAllWindows()\n",
    "    "
   ]
  },
  {
   "cell_type": "markdown",
   "id": "ddf700b5",
   "metadata": {},
   "source": [
    "# face & eye detection "
   ]
  },
  {
   "cell_type": "code",
   "execution_count": 16,
   "id": "4e6d64d5",
   "metadata": {},
   "outputs": [],
   "source": [
    "face_classifier = cv2.CascadeClassifier(r\"C:\\Users\\shaba\\OneDrive\\deep_learning\\cv\\Haarcascades\\haarcascade_frontalface_default.xml\")\n",
    "eye_classifier = cv2.CascadeClassifier(r\"C:\\Users\\shaba\\OneDrive\\deep_learning\\cv\\Haarcascades\\haarcascade_eye.xml\")\n",
    "\n",
    "\n",
    "img= cv2.imread(r\"C:\\Users\\shaba\\OneDrive\\deep_learning\\cv\\image_examples\\sir apj abdul kalam.jpg\")\n",
    "img = cv2.resize(img,(500,500))\n",
    "grey = cv2.cvtColor(img, cv2.COLOR_BGR2GRAY)\n",
    "faces = face_classifier.detectMultiScale(grey, 1.01,5)\n",
    "\n",
    "# when no faces detected , face classifier returns and empty tuple \n",
    "\n",
    "if faces is ():\n",
    "    print('no face found')\n",
    "\n",
    "for (x,y,w,h) in faces:\n",
    "    cv2.rectangle(img, (x,y), (x+w,y+h), (255,0,0),2)\n",
    "    roi_grey = grey[y:y+h, x:x+w]\n",
    "    roi_color = img[y:y+h, x:x+w]\n",
    "    eyes = eye_classifier.detectMultiScale(roi_grey)\n",
    "    \n",
    "    for (ex,ey,ew,eh) in eyes:\n",
    "        cv2.rectangle(roi_color, (ex,ey), (ex+ew,ey+eh),(0,255,0),2)\n",
    "\n",
    "    \n",
    "cv2.imshow('face ', img)\n",
    "cv2.waitKey(0)\n",
    "cv2.destroyAllWindows()\n"
   ]
  },
  {
   "cell_type": "markdown",
   "id": "0b36a63a",
   "metadata": {},
   "source": [
    " # Capture a vedio"
   ]
  },
  {
   "cell_type": "code",
   "execution_count": 17,
   "id": "13cbdd1a",
   "metadata": {
    "scrolled": true
   },
   "outputs": [],
   "source": [
    "# doing some face recognigation with the webcam\n",
    "\n",
    "import cv2\n",
    "video =  cv2.VideoCapture(0) # 0--webcam\n",
    "\n",
    "while True:\n",
    "    check,frame = video.read()\n",
    "    gray = cv2.cvtColor(frame , cv2.COLOR_BGR2GRAY)\n",
    "    cv2.imshow('video', frame)\n",
    "    if cv2.waitKey(1)==ord('q'):\n",
    "        break\n",
    "        \n",
    "        \n",
    "video.release()\n",
    "cv2.destroyAllWindows()"
   ]
  },
  {
   "cell_type": "markdown",
   "id": "7be5a9d2",
   "metadata": {},
   "source": [
    "# face & eye detection cascade classifiers"
   ]
  },
  {
   "cell_type": "code",
   "execution_count": 18,
   "id": "0c00bfc1",
   "metadata": {},
   "outputs": [],
   "source": [
    "\n",
    "import cv2\n",
    "face_cascade = cv2.CascadeClassifier(r\"C:\\Users\\shaba\\OneDrive\\deep_learning\\cv\\Haarcascades\\haarcascade_frontalface_default.xml\")\n",
    "eye_cascade = cv2.CascadeClassifier(r\"C:\\Users\\shaba\\OneDrive\\deep_learning\\cv\\Haarcascades\\haarcascade_eye.xml\")\n",
    "\n",
    "def detect( grey, frame):\n",
    "    faces = face_cascade.detectMultiScale(gray,1.3,5)\n",
    "    for (x,y,w,h) in faces:\n",
    "        cv2.rectangle(frame, (x,y),(x+w,y+h), (255,0,0),2)\n",
    "        roi_grey = grey[y:y+h, x:x+w]\n",
    "        roi_color = frame[y:y+h, x:x+w]\n",
    "        eyes = eye_cascade.detectMultiScale(roi_grey, 1.1,3)\n",
    "        \n",
    "        for (ex,ey,ew,eh) in eyes:\n",
    "            cv2.rectangle(roi_color, (ex,ey), (ex+ew,ey+eh),(0,255,0),2)\n",
    "    return frame\n",
    "\n",
    "# doing some face recognition with the webcam\n",
    "\n",
    "video = cv2.VideoCapture(0)\n",
    "\n",
    "while True:\n",
    "    check,frame = video.read()\n",
    "    grey = cv2.cvtColor(frame , cv2.COLOR_BGR2GRAY)\n",
    "    cv2.imshow('video', grey)\n",
    "    canvas = detect(grey,frame)\n",
    "    \n",
    "    cv2.imshow('video', canvas)\n",
    "    if cv2.waitKey(1)==ord('q'):\n",
    "        break\n",
    "        \n",
    "        \n",
    "video.release()\n",
    "cv2.destroyAllWindows()        "
   ]
  },
  {
   "cell_type": "markdown",
   "id": "d048c9da",
   "metadata": {},
   "source": [
    " # pedistrian detection"
   ]
  },
  {
   "cell_type": "code",
   "execution_count": 19,
   "id": "8a4b5f1f",
   "metadata": {},
   "outputs": [
    {
     "ename": "error",
     "evalue": "OpenCV(4.11.0) D:\\a\\opencv-python\\opencv-python\\opencv\\modules\\imgproc\\src\\color.cpp:199: error: (-215:Assertion failed) !_src.empty() in function 'cv::cvtColor'\n",
     "output_type": "error",
     "traceback": [
      "\u001b[1;31m---------------------------------------------------------------------------\u001b[0m",
      "\u001b[1;31merror\u001b[0m                                     Traceback (most recent call last)",
      "Cell \u001b[1;32mIn[19], line 15\u001b[0m\n\u001b[0;32m     11\u001b[0m \u001b[38;5;28;01mwhile\u001b[39;00m cap\u001b[38;5;241m.\u001b[39misOpened():\n\u001b[0;32m     12\u001b[0m     \n\u001b[0;32m     13\u001b[0m     \u001b[38;5;66;03m# read first frame\u001b[39;00m\n\u001b[0;32m     14\u001b[0m     check,frame \u001b[38;5;241m=\u001b[39m cap\u001b[38;5;241m.\u001b[39mread()\n\u001b[1;32m---> 15\u001b[0m     grey \u001b[38;5;241m=\u001b[39m \u001b[43mcv2\u001b[49m\u001b[38;5;241;43m.\u001b[39;49m\u001b[43mcvtColor\u001b[49m\u001b[43m(\u001b[49m\u001b[43mframe\u001b[49m\u001b[43m \u001b[49m\u001b[43m,\u001b[49m\u001b[43m \u001b[49m\u001b[43mcv2\u001b[49m\u001b[38;5;241;43m.\u001b[39;49m\u001b[43mCOLOR_BGR2GRAY\u001b[49m\u001b[43m)\u001b[49m \n\u001b[0;32m     16\u001b[0m     \u001b[38;5;66;03m# pass frame to our body classifier\u001b[39;00m\n\u001b[0;32m     18\u001b[0m     bodies \u001b[38;5;241m=\u001b[39m body_classifier\u001b[38;5;241m.\u001b[39mdetectMultiScale(grey,\u001b[38;5;241m1.2\u001b[39m,\u001b[38;5;241m3\u001b[39m)\n",
      "\u001b[1;31merror\u001b[0m: OpenCV(4.11.0) D:\\a\\opencv-python\\opencv-python\\opencv\\modules\\imgproc\\src\\color.cpp:199: error: (-215:Assertion failed) !_src.empty() in function 'cv::cvtColor'\n"
     ]
    }
   ],
   "source": [
    "import cv2\n",
    "# create our body classifier\n",
    "body_classifier = cv2.CascadeClassifier(r\"C:\\Users\\shaba\\OneDrive\\deep_learning\\cv\\Haarcascades\\haarcascade_fullbody.xml\")\n",
    "\n",
    "# initiate video capture for video file\n",
    "\n",
    "cap = cv2.VideoCapture(r\"C:\\Users\\shaba\\OneDrive\\deep_learning\\cv\\image_examples\\walking.avi\")\n",
    "\n",
    "# loop once video is successfully loaded\n",
    "\n",
    "while cap.isOpened():\n",
    "    \n",
    "    # read first frame\n",
    "    check,frame = cap.read()\n",
    "    grey = cv2.cvtColor(frame , cv2.COLOR_BGR2GRAY) \n",
    "    # pass frame to our body classifier\n",
    "    \n",
    "    bodies = body_classifier.detectMultiScale(grey,1.2,3)\n",
    "    \n",
    "    # extract bounding boxes for any bodies\n",
    "    \n",
    "    for (x,y,w,h) in bodies:\n",
    "        cv2.rectangle(frame, (x,y),(x+w,y+h), (255,0,0),2)\n",
    "        cv2.imshow('pedestrian', frame)\n",
    "    \n",
    "    \n",
    "    if cv2.waitKey(1)==ord('q'):\n",
    "        break\n",
    "        \n",
    "        \n",
    "cap.release()\n",
    "cv2.destroyAllWindows() \n",
    "    "
   ]
  },
  {
   "cell_type": "code",
   "execution_count": 12,
   "id": "ee563ad5",
   "metadata": {},
   "outputs": [],
   "source": [
    "import time"
   ]
  },
  {
   "cell_type": "markdown",
   "id": "af9fc06f",
   "metadata": {},
   "source": [
    "# Car Detection"
   ]
  },
  {
   "cell_type": "code",
   "execution_count": 15,
   "id": "bf3d4ea3",
   "metadata": {},
   "outputs": [],
   "source": [
    "car_classifier = cv2.CascadeClassifier(r\"C:\\Users\\shaba\\OneDrive\\deep_learning\\cv\\Haarcascades\\haarcascade_car.xml\")\n",
    "cap=cv2.VideoCapture(r\"C:\\Users\\shaba\\OneDrive\\deep_learning\\cv\\image_examples\\cars2.mp4\")\n",
    "while cap.isOpened():\n",
    "    time.sleep(0.05)\n",
    "    \n",
    "    #Read the capture\n",
    "    check,frame = cap.read()\n",
    "    grey = cv2.cvtColor(frame , cv2.COLOR_BGR2GRAY)\n",
    "    \n",
    "    #pass the frame to our car classifier\n",
    "    cars = car_classifier.detectMultiScale(grey,1.4,2)\n",
    "     # extract bounding boxes for any bodies\n",
    "    for (x,y,w,h) in cars:\n",
    "        cv2.rectangle(frame, (x,y),(x+w,y+h), (0,255,255),2)\n",
    "        cv2.imshow('cars', frame)\n",
    "        \n",
    "    if cv2.waitKey(1)==ord('q'):\n",
    "        break\n",
    "cap.release()\n",
    "cv2.destroyAllWindows()"
   ]
  }
 ],
 "metadata": {
  "kernelspec": {
   "display_name": "Python 3",
   "language": "python",
   "name": "python3"
  },
  "language_info": {
   "codemirror_mode": {
    "name": "ipython",
    "version": 3
   },
   "file_extension": ".py",
   "mimetype": "text/x-python",
   "name": "python",
   "nbconvert_exporter": "python",
   "pygments_lexer": "ipython3",
   "version": "3.12.0"
  }
 },
 "nbformat": 4,
 "nbformat_minor": 5
}
